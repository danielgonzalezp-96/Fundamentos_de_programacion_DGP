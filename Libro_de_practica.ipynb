{
 "cells": [
  {
   "cell_type": "code",
   "execution_count": null,
   "id": "8ba8a227",
   "metadata": {},
   "outputs": [],
   "source": [
    "Daniel = 1+2\n",
    "print(Daniel)\n",
    "Gay = 1-5\n",
    "print(Gay)\n",
    "Multi = 12 * 5 \n",
    "Divided =  1 / 2\n",
    "print(Divided)\n",
    "Exponencial = 2**2\n",
    "print(Exponencial)\n",
    "Division_baja = 25//3\n",
    "print(Division_baja)"
   ]
  },
  {
   "cell_type": "code",
   "execution_count": null,
   "id": "f6ea2310",
   "metadata": {},
   "outputs": [],
   "source": [
    "es_igual_que = 5 <= 15\n",
    "print(es_igual_que)"
   ]
  },
  {
   "cell_type": "code",
   "execution_count": null,
   "id": "a83de642",
   "metadata": {},
   "outputs": [],
   "source": [
    "a = 5 \n",
    "b = 10\n",
    "c = 20\n",
    "comparacion = a + b != c\n",
    "print(comparacion)"
   ]
  },
  {
   "cell_type": "code",
   "execution_count": null,
   "id": "a683516b",
   "metadata": {},
   "outputs": [],
   "source": [
    "usuario_base_de_datos = \"Daniel Alberto\"\n",
    "usuario_escrito = \"Daniel Alberto\"\n",
    "print(usuario_base_de_datos == usuario_escrito)"
   ]
  },
  {
   "cell_type": "markdown",
   "id": "5b1b21c2",
   "metadata": {},
   "source": [
    "Condicionales"
   ]
  },
  {
   "cell_type": "code",
   "execution_count": null,
   "id": "8a3ad8c5",
   "metadata": {},
   "outputs": [],
   "source": [
    "if a > b:\n",
    "    print(\"pasaste la materia\")\n",
    "else: print(\"no pasas la materia\")"
   ]
  },
  {
   "cell_type": "code",
   "execution_count": null,
   "id": "b6098ecc",
   "metadata": {},
   "outputs": [],
   "source": [
    "if usuario_base_de_datos == usuario_escrito: print(\"Iniciando sesion\")\n",
    "else: print(\"Error de log in\")"
   ]
  },
  {
   "cell_type": "code",
   "execution_count": null,
   "id": "79ab9f81",
   "metadata": {},
   "outputs": [],
   "source": [
    "ingreso_mensual = 2000\n",
    "GastoMensual = 800\n",
    "\n",
    "if ingreso_mensual > 1000:\n",
    "    if ingreso_mensual - GastoMensual < 0: print(\"Estas en deficit\")\n",
    "    elif ingreso_mensual - GastoMensual > 500: print(\"Estás bien\")\n",
    "    else: (\"Estás pasando tus limites\")\n",
    "\n"
   ]
  },
  {
   "cell_type": "markdown",
   "id": "5761178e",
   "metadata": {},
   "source": [
    "Operadores lógicos"
   ]
  },
  {
   "cell_type": "code",
   "execution_count": null,
   "id": "af81269e",
   "metadata": {},
   "outputs": [],
   "source": [
    "Resultado1 = not 1 > 2\n",
    "print(Resultado1)"
   ]
  },
  {
   "cell_type": "code",
   "execution_count": null,
   "id": "74794494",
   "metadata": {},
   "outputs": [],
   "source": [
    "not True and False"
   ]
  },
  {
   "cell_type": "code",
   "execution_count": null,
   "id": "0e0cdc5e",
   "metadata": {},
   "outputs": [],
   "source": [
    "\"Hola \" + \"Mi amor \" + \"Te amo\""
   ]
  },
  {
   "cell_type": "markdown",
   "id": "5215f98b",
   "metadata": {},
   "source": [
    "Metodos de cadena"
   ]
  },
  {
   "cell_type": "code",
   "execution_count": null,
   "id": "2cc85051",
   "metadata": {},
   "outputs": [],
   "source": [
    "Cadena1 = \"Hola Daniel\" \n",
    "Cadena2 = \"Estás estudiando y juicioso y vas vas ganar el taller\"\n",
    "Constraseña = \"56\"\n",
    "Mayuscula = Cadena1.upper()\n",
    "Miniscula = Cadena1.lower()\n",
    "PrimeraMayus = Cadena1.capitalize()\n",
    "BusquedaconFind = Cadena1.find(\"H\")\n",
    "print(BusquedaconFind)\n",
    "#Index a diferencia de find, si no se encuentra en el string sale como una excepción\n",
    "Numerico = Constraseña.isnumeric()\n",
    "print(Numerico)"
   ]
  },
  {
   "cell_type": "code",
   "execution_count": null,
   "id": "2ab08dbc",
   "metadata": {},
   "outputs": [],
   "source": [
    "Coincidencia = Cadena1.count(\"a\")\n",
    "print(Coincidencia)\n",
    "ContarCaracteres = len(Cadena1)\n",
    "print(ContarCaracteres)"
   ]
  },
  {
   "cell_type": "markdown",
   "id": "db7a8ebb",
   "metadata": {},
   "source": [
    "StartsWith EndsWtih"
   ]
  },
  {
   "cell_type": "code",
   "execution_count": null,
   "id": "89347ba1",
   "metadata": {},
   "outputs": [],
   "source": [
    "Empiezacon = Cadena1.startswith(\"H\")\n",
    "print(Empiezacon)\n",
    "TerminaCon = Cadena1.endswith(\"l\")\n",
    "print(TerminaCon)"
   ]
  },
  {
   "cell_type": "code",
   "execution_count": null,
   "id": "1b5bc9a3",
   "metadata": {},
   "outputs": [],
   "source": [
    "ReemplazarCon = Cadena1.replace(\"Hola\",\"Hello\")\n",
    "print(ReemplazarCon)\n",
    "print(Cadena1)"
   ]
  },
  {
   "cell_type": "code",
   "execution_count": null,
   "id": "26029936",
   "metadata": {},
   "outputs": [],
   "source": [
    "Separar = Cadena1.split(\",\")\n",
    "print(type(Separar))"
   ]
  },
  {
   "cell_type": "markdown",
   "id": "d8980456",
   "metadata": {},
   "source": [
    "Metodos de listas"
   ]
  },
  {
   "cell_type": "code",
   "execution_count": null,
   "id": "c76e1a2b",
   "metadata": {},
   "outputs": [],
   "source": [
    "Mercado = [\"Manzanas\",\"Peras\",\"Naranjas\",\"Aguacates\",\"Pescados\",\"Lacteos\"]\n",
    "MercadoAseo = [\"Fab\",\"Detergente\",\"Suavitel\"]\n",
    "CantidadDeElementosMercado = len(Mercado)\n",
    "print(CantidadDeElementosMercado)\n",
    "\n",
    "Mercado.append(\"Huevos\")\n",
    "print(Mercado)\n",
    "\n",
    "Mercado.insert(2,\"Limones\")\n",
    "print(Mercado)\n",
    "\n",
    "Mercado.extend([\"Carnes\", \"Galletas\"])\n",
    "print(Mercado)\n",
    "\n",
    "#Elminar un elemento de la lista por su indice\n",
    "Mercado.pop(-2)\n",
    "print(Mercado)\n",
    "\n",
    "#Elimar un elemento por su valor - Se debe buscar como se llama el elemento\n",
    "Mercado.remove(\"Limones\")\n",
    "print(Mercado)\n",
    "\n",
    "#Eliminar una lista\n",
    "#Mercado.clear()\n",
    "\n",
    "Mercado.sort()\n",
    "print(Mercado)\n",
    "\n",
    "Mercado.reverse()\n",
    "print(Mercado)\n",
    "\n",
    "ListaDeMercado= [Mercado,MercadoAseo]\n"
   ]
  },
  {
   "cell_type": "markdown",
   "id": "232ce7ec",
   "metadata": {},
   "source": [
    "Tuplas"
   ]
  },
  {
   "cell_type": "code",
   "execution_count": null,
   "id": "ee11936d",
   "metadata": {},
   "outputs": [],
   "source": [
    "JugadoresDIM = {\"Jader Valencia\",\"Eder Chaux\", \"Daniel Londoño\",\"Diego Moreno\"}\n",
    "JugadoresAntioqueños = {\"Daniel Londoño\", \"Diego Moreno\"}\n",
    "NuevoFichaje = JugadoresDIM.add(\"Halam Loboa\")\n",
    "print(JugadoresDIM)\n",
    "JugadoresDIM.isdisjoint(JugadoresAntioqueños)\n",
    "JugadoresAntioqueños.issubset(JugadoresDIM)"
   ]
  },
  {
   "cell_type": "code",
   "execution_count": null,
   "id": "c7c620bc",
   "metadata": {},
   "outputs": [],
   "source": [
    "a = set(\"Daniel\")\n",
    "b = set(\"Juan Pablo\")\n",
    "\n",
    "Union = a.union(b)\n",
    "print(Union)\n",
    "\n",
    "Interseccion = a.intersection(b)\n",
    "print(Interseccion)\n",
    "\n",
    "Diferencia = a.difference(b)\n",
    "print(Diferencia)"
   ]
  },
  {
   "cell_type": "markdown",
   "id": "10fc0929",
   "metadata": {},
   "source": [
    "Métodos de diccionarios"
   ]
  },
  {
   "cell_type": "code",
   "execution_count": null,
   "id": "e7f0098e",
   "metadata": {},
   "outputs": [],
   "source": [
    "Diccionario = {\"Nombre\": \"Daniel\",\n",
    "               \"Apellido\" : \"Gonzalez\",\n",
    "               \"Subs\" : 1000}\n",
    "\n",
    "Claves = Diccionario.keys()\n",
    "print(Claves)\n",
    "\n",
    "Anys = Diccionario.get(\"Nombre\")\n",
    "print(Anys)\n",
    "\n",
    "#Eliminar un elemento\n",
    "#Eliminar = Diccionario().clear  \n",
    "\n",
    "\n",
    "HacerloIterable = Diccionario.items()\n",
    "print(HacerloIterable)\n"
   ]
  },
  {
   "cell_type": "markdown",
   "id": "66150b98",
   "metadata": {},
   "source": [
    "Ciclos y control de flujo"
   ]
  },
  {
   "cell_type": "code",
   "execution_count": null,
   "id": "1657f87d",
   "metadata": {},
   "outputs": [],
   "source": [
    "VotosPersoneroValidos = 500\n",
    "VotosPersoneroInvalidos = 300\n",
    "\n",
    "if VotosPersoneroInvalidos > VotosPersoneroValidos:\n",
    "    print(\"Se repite la votación\")\n",
    "elif VotosPersoneroValidos == VotosPersoneroInvalidos :\n",
    "    print (\"Se realiza una batalla de baile para decidir el ganador\")\n",
    "else: print (\"Hay un ganador\") \n"
   ]
  },
  {
   "cell_type": "code",
   "execution_count": null,
   "id": "e92461a6",
   "metadata": {},
   "outputs": [],
   "source": [
    "import random\n",
    "SpeedLightAdvisor = 80 \n",
    "Trafficlights = [\"Red\",\"Green\", \"Yellow\"]\n",
    "CurrentTrafficLight = \"Green\"\n",
    "while CurrentTrafficLight == \"Green\" : \n",
    "    print(f\"runnig at {SpeedLightAdvisor} km/h because traffic light is green\")\n",
    "    CurrentTrafficLight = random.sample(Trafficlights, k=1)[0]\n",
    "print(f\"not running because traffic light is {CurrentTrafficLight}\")"
   ]
  },
  {
   "cell_type": "code",
   "execution_count": null,
   "id": "3f3ddb19",
   "metadata": {},
   "outputs": [],
   "source": [
    "AportesEnEnero = [500,200,500,600,1000,4000,5000]\n",
    "TotalAportes = 10000\n",
    "for Monedas in AportesEnEnero:\n",
    "    TotalAportes += Monedas\n",
    "print(TotalAportes)"
   ]
  },
  {
   "cell_type": "code",
   "execution_count": null,
   "id": "77e0defb",
   "metadata": {},
   "outputs": [],
   "source": [
    "Años = [22,25,44,36,12,15]\n",
    "SumaDeAños = 10\n",
    "for Año in Años:\n",
    "    SumaDeAños = SumaDeAños + Año\n",
    "print(SumaDeAños / len(Años))\n"
   ]
  },
  {
   "cell_type": "code",
   "execution_count": null,
   "id": "be0fd12e",
   "metadata": {},
   "outputs": [],
   "source": [
    "Numeros = [2,4,12,45,7]\n",
    "print(f\" For all numbers{Numeros}\")\n",
    "SumaPares = 0\n",
    "for numerito in Numeros:\n",
    "    if  numerito % 2 == 0:\n",
    "        SumaPares += numerito\n",
    "print(SumaPares)    "
   ]
  },
  {
   "cell_type": "code",
   "execution_count": null,
   "id": "54adfbe0",
   "metadata": {},
   "outputs": [],
   "source": [
    "Fiesta = True\n",
    "BuenaNota = 4\n",
    "NotasEstudiantes = [2,3,3.5,4.5,3.4,4.2,1,2.1] \n",
    "EstudiantesQuePasan = []\n",
    "for nota in NotasEstudiantes:\n",
    "    print(f\"La nota del estudiante es {nota}\")\n",
    "    if nota < BuenaNota: Fiesta = False\n",
    "    elif nota > 4.1: \n",
    "        Fiesta = True\n",
    "    EstudiantesQuePasan.append(Fiesta)\n",
    "print(EstudiantesQuePasan)"
   ]
  },
  {
   "cell_type": "markdown",
   "id": "cf975db3",
   "metadata": {},
   "source": [
    "Iteración de estructura de datos"
   ]
  },
  {
   "cell_type": "code",
   "execution_count": null,
   "id": "0d1ab6c9",
   "metadata": {},
   "outputs": [],
   "source": [
    "NotasDelCurso = {\"Danilo\" : 3.5, \"Joe\" : 3.2, \"Marta\" : 4}\n",
    "for nombre,calificacion in NotasDelCurso.items():\n",
    "    print(f\"{nombre} : {calificacion}\")"
   ]
  },
  {
   "cell_type": "code",
   "execution_count": null,
   "id": "1089c8a0",
   "metadata": {},
   "outputs": [],
   "source": [
    "numbers = [1,2,3,4,5,6,7,8,9,10]\n",
    "is_even = [(n % 2) == 0 for n in numbers]\n",
    "Even_Numbers = [n for n in numbers if (n % 2) == 0]\n",
    "New_numbers = [ n*2 if (n % 2) != 0\n",
    "               else n / 2 for n in numbers]\n",
    "print((numbers, is_even,Even_Numbers,New_numbers))"
   ]
  },
  {
   "cell_type": "code",
   "execution_count": 5,
   "id": "721fe1ab",
   "metadata": {},
   "outputs": [
    {
     "name": "stdout",
     "output_type": "stream",
     "text": [
      "{1: [1, 1, 1, 1], 2: [4, 8, 16, 32], 3: [9, 27, 81, 243], 4: [16, 64, 256, 1024]}\n"
     ]
    }
   ],
   "source": [
    "bases = [1, 2, 3, 4]\n",
    "powers = [2, 3, 4, 5]\n",
    "results = {}\n",
    "for b in bases:\n",
    "    results_for_current_base = []\n",
    "    for p in powers:\n",
    "        results_for_current_base.append(b**p)\n",
    "    results[b] = results_for_current_base\n",
    "print(results)"
   ]
  },
  {
   "cell_type": "markdown",
   "id": "b7947405",
   "metadata": {},
   "source": [
    "Input"
   ]
  },
  {
   "cell_type": "code",
   "execution_count": 412,
   "id": "ae94c6f1",
   "metadata": {},
   "outputs": [
    {
     "name": "stdout",
     "output_type": "stream",
     "text": [
      "Mi nombre es \"Daniel\"\n"
     ]
    }
   ],
   "source": [
    "nombre = input(\"Hola, escribe tu nombre para empezar: \")\n",
    "print(f\"Mi nombre es {nombre}\")"
   ]
  },
  {
   "cell_type": "code",
   "execution_count": 418,
   "id": "c1c350f9",
   "metadata": {},
   "outputs": [],
   "source": [
    "#Diferencia en porcentaje entre el curso actual y \n",
    "#n// a) el más rápido de otros cursos\n",
    "#n// b) el más lento de otros cursos\n",
    "#n// c) el promedio de los cursos\n"
   ]
  },
  {
   "cell_type": "code",
   "execution_count": 427,
   "id": "f5b47fa8",
   "metadata": {},
   "outputs": [
    {
     "name": "stdout",
     "output_type": "stream",
     "text": [
      "40\n",
      "El curso de Dalto dura un 40 % menos que el más lento\n"
     ]
    }
   ],
   "source": [
    "DuracionCursos = {\"Dalto\" : 1.5, \"Mas Lento\" : 7, \"Mas rapido\" : 2.5, \"Promedio\" : 4}\n",
    "PuntoA = 100 -  int((DuracionCursos.get(\"Dalto\") / DuracionCursos.get(\"Mas rapido\") * 100))\n",
    "print(PuntoA)\n",
    "print(f\"El curso de Dalto dura un {PuntoA} % menos que el más lento\")"
   ]
  },
  {
   "cell_type": "markdown",
   "id": "89ed7991",
   "metadata": {},
   "source": [
    "Funciones"
   ]
  },
  {
   "cell_type": "code",
   "execution_count": 6,
   "id": "be850f2d",
   "metadata": {},
   "outputs": [
    {
     "name": "stdout",
     "output_type": "stream",
     "text": [
      "Hola Mundo\n"
     ]
    }
   ],
   "source": [
    "def HolaMundo():\n",
    "    print(\"Hola Mundo\")\n",
    "HolaMundo()"
   ]
  },
  {
   "cell_type": "code",
   "execution_count": 9,
   "id": "f6f66367",
   "metadata": {},
   "outputs": [
    {
     "data": {
      "text/plain": [
       "-3"
      ]
     },
     "execution_count": 9,
     "metadata": {},
     "output_type": "execute_result"
    }
   ],
   "source": [
    "def f(x):\n",
    "    x = 2 + 1\n",
    "    return -x\n",
    "\n",
    "f(5)"
   ]
  },
  {
   "cell_type": "code",
   "execution_count": 11,
   "id": "4c334246",
   "metadata": {},
   "outputs": [
    {
     "name": "stdout",
     "output_type": "stream",
     "text": [
      "Hello gabriel!\n"
     ]
    }
   ],
   "source": [
    "def say_hello_to_someone(name):\n",
    "    name = name.lower()\n",
    "    print(f\"Hello {name}!\")\n",
    "\n",
    "say_hello_to_someone(\"GabRieL\")"
   ]
  },
  {
   "cell_type": "code",
   "execution_count": 18,
   "id": "0087a907",
   "metadata": {},
   "outputs": [
    {
     "data": {
      "text/plain": [
       "95"
      ]
     },
     "execution_count": 18,
     "metadata": {},
     "output_type": "execute_result"
    }
   ],
   "source": [
    "def suma(a, b):\n",
    "    return a + b + a*b\n",
    "suma (a = 15, b = 5)"
   ]
  },
  {
   "cell_type": "code",
   "execution_count": 20,
   "id": "6a20018f",
   "metadata": {},
   "outputs": [
    {
     "name": "stdout",
     "output_type": "stream",
     "text": [
      "Hello Richard!\n"
     ]
    }
   ],
   "source": [
    "def say_hello_to_someone(someone=\"everyone\"):\n",
    "    print(f\"Hello {someone}!\")\n",
    "say_hello_to_someone(\"Richard\")"
   ]
  },
  {
   "cell_type": "code",
   "execution_count": 22,
   "id": "6d97043a",
   "metadata": {},
   "outputs": [
    {
     "name": "stdout",
     "output_type": "stream",
     "text": [
      "Message to Daniel:\n",
      "\n",
      "  Hola, ¿cómo estás?\n",
      "\n",
      "Bye\n"
     ]
    }
   ],
   "source": [
    "def say_something_to_someone(something, someone=\"anyone\"):\n",
    "    print(f\"Message to {someone}:\\n\\n  {something}\\n\\nBye\")\n",
    "    \n",
    "say_something_to_someone(someone=\"Daniel\", something=\"Hola, ¿cómo estás?\")"
   ]
  }
 ],
 "metadata": {
  "kernelspec": {
   "display_name": "Python 3",
   "language": "python",
   "name": "python3"
  },
  "language_info": {
   "codemirror_mode": {
    "name": "ipython",
    "version": 3
   },
   "file_extension": ".py",
   "mimetype": "text/x-python",
   "name": "python",
   "nbconvert_exporter": "python",
   "pygments_lexer": "ipython3",
   "version": "3.13.4"
  }
 },
 "nbformat": 4,
 "nbformat_minor": 5
}
