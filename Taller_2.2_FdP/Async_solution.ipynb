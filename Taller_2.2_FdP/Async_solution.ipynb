{
 "cells": [
  {
   "cell_type": "markdown",
   "id": "d3ba783d",
   "metadata": {},
   "source": [
    "Taller 2.2 - Concurrencia\n",
    "\n",
    "Daniel Alberto González Pabón - C.C 1128462077"
   ]
  },
  {
   "cell_type": "code",
   "execution_count": null,
   "id": "c7fe13f9",
   "metadata": {},
   "outputs": [],
   "source": [
    "import asyncio\n",
    "import time\n",
    "import aiohttp"
   ]
  },
  {
   "cell_type": "code",
   "execution_count": 2,
   "id": "7110ecae",
   "metadata": {},
   "outputs": [],
   "source": [
    "random_image_urls = [\n",
    "    \"https://picsum.photos/600/400?random=1\",\n",
    "    \"https://picsum.photos/600/400?random=2\",\n",
    "    \"https://picsum.photos/600/400?random=3\",\n",
    "    \"https://picsum.photos/600/400?random=4\"\n",
    "]\n",
    "\n",
    "unplash_image_urls = [\n",
    "    \"https://images.unsplash.com/photo-1506905925346-21bda4d32df4?w=800\",\n",
    "    \"https://images.unsplash.com/photo-1441974231531-c6227db76b6e?w=800\",\n",
    "    \"https://images.unsplash.com/photo-1518837695005-2083093ee35b?w=800\"\n",
    "]\n",
    "\n",
    "json_data_urls = [\n",
    "    \"https://jsonplaceholder.typicode.com/posts/1\",\n",
    "    \"https://jsonplaceholder.typicode.com/users/1\"\n",
    "]\n",
    "\n",
    "csv_data_urls = [\n",
    "    \"https://raw.githubusercontent.com/cs109/2014_data/master/countries.csv\",\n",
    "    \"https://raw.githubusercontent.com/plotly/datasets/master/iris.csv\",\n",
    "    \"https://raw.githubusercontent.com/mwaskom/seaborn-data/master/titanic.csv\"\n",
    "    ]\n",
    "\n",
    "text_urls = [\n",
    "    \"https://www.gutenberg.org/files/11/11-0.txt\",\n",
    "    \"https://raw.githubusercontent.com/python/cpython/main/README.rst\",\n",
    "    \"https://raw.githubusercontent.com/microsoft/vscode/main/README.md\",\n",
    "    \"https://raw.githubusercontent.com/tensorflow/tensorflow/master/README.md\"\n",
    "]\n",
    "\n",
    "pdf_urls = [\n",
    "    \"https://www.w3.org/WAI/ER/tests/xhtml/testfiles/resources/pdf/dummy.pdf\",\n",
    "    \"https://www.africau.edu/images/default/sample.pdf\"\n",
    "    ]\n",
    "\n",
    "audio_urls = [\n",
    "    \"https://www.soundjay.com/misc/sounds/bell-ringing-05.wav\"\n",
    "                ]\n",
    "\n",
    "code_urls = [\n",
    "    \"https://raw.githubusercontent.com/django/django/main/setup.cfg\",\n",
    "    \"https://raw.githubusercontent.com/pallets/flask/main/pyproject.toml\",\n",
    "    \"https://raw.githubusercontent.com/numpy/numpy/main/requirements.txt\",\n",
    "    \"https://raw.githubusercontent.com/pandas-dev/pandas/main/setup.py\"\n",
    "    ]\n",
    "\n",
    "mixed_urls = random_image_urls + unplash_image_urls + json_data_urls + csv_data_urls + text_urls + pdf_urls + audio_urls + code_urls"
   ]
  },
  {
   "cell_type": "code",
   "execution_count": 7,
   "id": "aa4f59e1",
   "metadata": {},
   "outputs": [],
   "source": [
    "async def download_site(session, url):\n",
    "    async with session.get(url) as response:\n",
    "        data = await response.read()\n",
    "        print(f\"Read {len(data)} from {url}\")\n",
    "        "
   ]
  },
  {
   "cell_type": "code",
   "execution_count": 8,
   "id": "836f429a",
   "metadata": {},
   "outputs": [],
   "source": [
    "async def download_all_sites(sites):\n",
    "    async with aiohttp.ClientSession() as session:\n",
    "        tasks = [download_site(session, url) for url in sites]\n",
    "        await asyncio.gather(*tasks)"
   ]
  },
  {
   "cell_type": "code",
   "execution_count": null,
   "id": "491f223d",
   "metadata": {},
   "outputs": [],
   "source": [
    "async def main():\n",
    "    sites = [*mixed_urls]\n",
    "    start_time = time.time()\n",
    "    await download_all_sites(sites) #Agregué await para esperar a que se complete la tarea, con asyncio se retornaba un Runtime Error\n",
    "    duration = time.time() - start_time\n",
    "    print(f\"Downloaded {len(sites)} sites in {time.time()-start_time:.3f} seconds\")"
   ]
  },
  {
   "cell_type": "code",
   "execution_count": 15,
   "id": "472a88f1",
   "metadata": {},
   "outputs": [
    {
     "name": "stdout",
     "output_type": "stream",
     "text": [
      "Read 6860 from https://raw.githubusercontent.com/microsoft/vscode/main/README.md\n",
      "Read 8909 from https://raw.githubusercontent.com/python/cpython/main/README.rst\n",
      "Read 57018 from https://raw.githubusercontent.com/mwaskom/seaborn-data/master/titanic.csv\n",
      "Read 21977 from https://raw.githubusercontent.com/pandas-dev/pandas/main/setup.py\n",
      "Read 4601 from https://raw.githubusercontent.com/plotly/datasets/master/iris.csv\n",
      "Read 3393 from https://raw.githubusercontent.com/cs109/2014_data/master/countries.csv\n",
      "Read 6531 from https://raw.githubusercontent.com/pallets/flask/main/pyproject.toml\n",
      "Read 11901 from https://raw.githubusercontent.com/tensorflow/tensorflow/master/README.md\n",
      "Read 49671 from https://images.unsplash.com/photo-1518837695005-2083093ee35b?w=800\n",
      "Read 72835 from https://images.unsplash.com/photo-1506905925346-21bda4d32df4?w=800\n",
      "Read 14 from https://raw.githubusercontent.com/django/django/main/setup.cfg\n",
      "Read 160599 from https://images.unsplash.com/photo-1441974231531-c6227db76b6e?w=800\n",
      "Read 14 from https://raw.githubusercontent.com/numpy/numpy/main/requirements.txt\n",
      "Read 13264 from https://www.w3.org/WAI/ER/tests/xhtml/testfiles/resources/pdf/dummy.pdf\n",
      "Read 292 from https://jsonplaceholder.typicode.com/posts/1\n",
      "Read 151191 from https://www.gutenberg.org/files/11/11-0.txt\n",
      "Read 509 from https://jsonplaceholder.typicode.com/users/1\n",
      "Read 20045 from https://picsum.photos/600/400?random=4\n",
      "Read 55313 from https://www.africau.edu/images/default/sample.pdf\n",
      "Read 452 from https://picsum.photos/600/400?random=2\n",
      "Read 670852 from https://www.soundjay.com/misc/sounds/bell-ringing-05.wav\n",
      "Read 49352 from https://picsum.photos/600/400?random=3\n",
      "Read 12392 from https://picsum.photos/600/400?random=1\n",
      "Downloaded 23 sites in 5.087 seconds\n"
     ]
    }
   ],
   "source": [
    "await main()"
   ]
  }
 ],
 "metadata": {
  "kernelspec": {
   "display_name": "Python 3",
   "language": "python",
   "name": "python3"
  },
  "language_info": {
   "codemirror_mode": {
    "name": "ipython",
    "version": 3
   },
   "file_extension": ".py",
   "mimetype": "text/x-python",
   "name": "python",
   "nbconvert_exporter": "python",
   "pygments_lexer": "ipython3",
   "version": "3.13.4"
  }
 },
 "nbformat": 4,
 "nbformat_minor": 5
}
