{
 "cells": [
  {
   "cell_type": "markdown",
   "id": "741cd327",
   "metadata": {},
   "source": [
    "Taller 2.2 - Concurrencia\n",
    "\n",
    "Daniel Alberto González Pabón - C.C 1128462077"
   ]
  },
  {
   "cell_type": "markdown",
   "id": "8d7d8d67",
   "metadata": {},
   "source": [
    "3. Método Threading"
   ]
  },
  {
   "cell_type": "code",
   "execution_count": null,
   "id": "df233b1d",
   "metadata": {},
   "outputs": [],
   "source": [
    "import concurrent.futures\n",
    "import requests\n",
    "import threading\n",
    "import time"
   ]
  },
  {
   "cell_type": "code",
   "execution_count": 16,
   "id": "abe1fd7f",
   "metadata": {},
   "outputs": [],
   "source": [
    "random_image_urls = [\n",
    "    \"https://picsum.photos/600/400?random=1\",\n",
    "    \"https://picsum.photos/600/400?random=2\",\n",
    "    \"https://picsum.photos/600/400?random=3\",\n",
    "    \"https://picsum.photos/600/400?random=4\"\n",
    "]\n",
    "\n",
    "unplash_image_urls = [\n",
    "    \"https://images.unsplash.com/photo-1506905925346-21bda4d32df4?w=800\",\n",
    "    \"https://images.unsplash.com/photo-1441974231531-c6227db76b6e?w=800\",\n",
    "    \"https://images.unsplash.com/photo-1518837695005-2083093ee35b?w=800\"\n",
    "]\n",
    "\n",
    "json_data_urls = [\n",
    "    \"https://jsonplaceholder.typicode.com/posts/1\",\n",
    "    \"https://jsonplaceholder.typicode.com/users/1\"\n",
    "]\n",
    "\n",
    "csv_data_urls = [\n",
    "    \"https://raw.githubusercontent.com/cs109/2014_data/master/countries.csv\",\n",
    "    \"https://raw.githubusercontent.com/plotly/datasets/master/iris.csv\"\n",
    "    ]\n",
    "\n",
    "text_urls = [\n",
    "    \"https://www.gutenberg.org/files/11/11-0.txt\",\n",
    "    \"https://raw.githubusercontent.com/python/cpython/main/README.rst\",\n",
    "    \"https://raw.githubusercontent.com/microsoft/vscode/main/README.md\",\n",
    "    \"https://raw.githubusercontent.com/tensorflow/tensorflow/master/README.md\"\n",
    "]\n",
    "\n",
    "pdf_urls = [\n",
    "    \"https://www.w3.org/WAI/ER/tests/xhtml/testfiles/resources/pdf/dummy.pdf\",\n",
    "    \"https://www.africau.edu/images/default/sample.pdf\"\n",
    "    ]\n",
    "\n",
    "audio_urls = [\n",
    "    \"https://www.soundjay.com/misc/sounds/bell-ringing-05.wav\"\n",
    "                ]\n",
    "\n",
    "code_urls = [\n",
    "    \"https://raw.githubusercontent.com/django/django/main/setup.cfg\",\n",
    "    \"https://raw.githubusercontent.com/pallets/flask/main/pyproject.toml\",\n",
    "    \"https://raw.githubusercontent.com/numpy/numpy/main/requirements.txt\",\n",
    "    \"https://raw.githubusercontent.com/pandas-dev/pandas/main/setup.py\"\n",
    "    ]\n",
    "\n",
    "mixed_urls = random_image_urls + unplash_image_urls + json_data_urls + csv_data_urls + text_urls + pdf_urls + audio_urls + code_urls"
   ]
  },
  {
   "cell_type": "markdown",
   "id": "a3d445c2",
   "metadata": {},
   "source": [
    "2) Método Threading"
   ]
  },
  {
   "cell_type": "code",
   "execution_count": null,
   "id": "a4c034cb",
   "metadata": {},
   "outputs": [],
   "source": [
    "thread_local = threading.local()\n",
    "\n",
    "def get_session():\n",
    "    if not hasattr(thread_local, \"session\"):\n",
    "        thread_local.session = requests.Session()\n",
    "    return thread_local.session"
   ]
  },
  {
   "cell_type": "code",
   "execution_count": null,
   "id": "eeef6655",
   "metadata": {},
   "outputs": [],
   "source": [
    "\n",
    "def Descargar_Sitio(url):\n",
    "    session = get_session()\n",
    "    with session.get(url) as response:\n",
    "        print(f\"Read {len(response.content)} from {url}\")"
   ]
  },
  {
   "cell_type": "code",
   "execution_count": null,
   "id": "924130ab",
   "metadata": {},
   "outputs": [],
   "source": [
    "def Descargar_Todos_los_sitios(sites):\n",
    "    with concurrent.futures.ThreadPoolExecutor(max_workers=5) as executor:\n",
    "        executor.map(Descargar_Sitio, sites)"
   ]
  },
  {
   "cell_type": "code",
   "execution_count": null,
   "id": "2f071bab",
   "metadata": {},
   "outputs": [],
   "source": [
    "def main():\n",
    "    sites = [*mixed_urls]\n",
    "    start_time = time.time()\n",
    "    Descargar_Todos_los_sitios(sites)\n",
    "    duration = time.time() - start_time\n",
    "    print(f\"Downloaded {len(sites)} in {duration} seconds\")"
   ]
  },
  {
   "cell_type": "code",
   "execution_count": null,
   "id": "b18b908e",
   "metadata": {},
   "outputs": [],
   "source": [
    "if __name__ == \"__main__\":\n",
    "    main()"
   ]
  }
 ],
 "metadata": {
  "kernelspec": {
   "display_name": "Python 3",
   "language": "python",
   "name": "python3"
  },
  "language_info": {
   "codemirror_mode": {
    "name": "ipython",
    "version": 3
   },
   "file_extension": ".py",
   "mimetype": "text/x-python",
   "name": "python",
   "nbconvert_exporter": "python",
   "pygments_lexer": "ipython3",
   "version": "3.13.4"
  }
 },
 "nbformat": 4,
 "nbformat_minor": 5
}
