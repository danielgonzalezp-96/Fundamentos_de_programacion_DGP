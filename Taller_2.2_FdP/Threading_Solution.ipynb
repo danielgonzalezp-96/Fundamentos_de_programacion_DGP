{
 "cells": [
  {
   "cell_type": "markdown",
   "id": "741cd327",
   "metadata": {},
   "source": [
    "Taller 2.2 - Concurrencia\n",
    "\n",
    "Daniel Alberto González Pabón - C.C 1128462077"
   ]
  },
  {
   "cell_type": "code",
   "execution_count": null,
   "id": "ed266d47",
   "metadata": {},
   "outputs": [],
   "source": [
    "import asyncio\n",
    "import time\n",
    "import aiohttp"
   ]
  },
  {
   "cell_type": "code",
   "execution_count": null,
   "id": "abe1fd7f",
   "metadata": {},
   "outputs": [],
   "source": [
    "random_image_urls = [\n",
    "    \"https://picsum.photos/600/400?random=1\",\n",
    "    \"https://picsum.photos/600/400?random=2\",\n",
    "    \"https://picsum.photos/600/400?random=3\",\n",
    "    \"https://picsum.photos/600/400?random=4\"\n",
    "]\n",
    "\n",
    "unplash_image_urls = [\n",
    "    \"https://images.unsplash.com/photo-1506905925346-21bda4d32df4?w=800\",\n",
    "    \"https://images.unsplash.com/photo-1441974231531-c6227db76b6e?w=800\",\n",
    "    \"https://images.unsplash.com/photo-1518837695005-2083093ee35b?w=800\"\n",
    "]\n",
    "\n",
    "json_data_urls = [\n",
    "    \"https://jsonplaceholder.typicode.com/posts/1\",\n",
    "    \"https://jsonplaceholder.typicode.com/users/1\"\n",
    "]\n",
    "\n",
    "csv_data_urls = [\n",
    "    \"https://raw.githubusercontent.com/cs109/2014_data/master/countries.csv\",\n",
    "    \"https://raw.githubusercontent.com/plotly/datasets/master/iris.csv\",\n",
    "    \"https://raw.githubusercontent.com/mwaskom/seaborn-data/master/titanic.csv\"\n",
    "    ]\n",
    "\n",
    "text_urls = [\n",
    "    \"https://www.gutenberg.org/files/11/11-0.txt\",\n",
    "    \"https://raw.githubusercontent.com/python/cpython/main/README.rst\",\n",
    "    \"https://raw.githubusercontent.com/microsoft/vscode/main/README.md\",\n",
    "    \"https://raw.githubusercontent.com/tensorflow/tensorflow/master/README.md\"\n",
    "]\n",
    "\n",
    "pdf_urls = [\n",
    "    \"https://www.w3.org/WAI/ER/tests/xhtml/testfiles/resources/pdf/dummy.pdf\",\n",
    "    \"https://www.africau.edu/images/default/sample.pdf\"\n",
    "    ]\n",
    "\n",
    "audio_urls = [\n",
    "    \"https://www.soundjay.com/misc/sounds/bell-ringing-05.wav\"\n",
    "                ]\n",
    "\n",
    "code_urls = [\n",
    "    \"https://raw.githubusercontent.com/django/django/main/setup.cfg\",\n",
    "    \"https://raw.githubusercontent.com/pallets/flask/main/pyproject.toml\",\n",
    "    \"https://raw.githubusercontent.com/numpy/numpy/main/requirements.txt\",\n",
    "    \"https://raw.githubusercontent.com/pandas-dev/pandas/main/setup.py\"\n",
    "    ]\n",
    "\n",
    "mixed_urls = random_image_urls + unplash_image_urls + json_data_urls + csv_data_urls + text_urls + pdf_urls + audio_urls + code_urls"
   ]
  },
  {
   "cell_type": "markdown",
   "id": "a5c338c1",
   "metadata": {},
   "source": [
    "1) Método Asincronico"
   ]
  },
  {
   "cell_type": "code",
   "execution_count": null,
   "id": "81f05cae",
   "metadata": {},
   "outputs": [],
   "source": [
    "async def download_site(session, url):\n",
    "    async with session.get(url) as response:\n",
    "        size = response.content.read()\n",
    "        if size is None:\n",
    "            data = await response.read()\n",
    "            size = len(data)\n",
    "        print(\"Read {0} from {1}\".format(response.content_length, url))\n",
    "        \n",
    "\n",
    "async def download_all_sites(sites):\n",
    "    async with aiohttp.ClientSession() as session:\n",
    "        tasks = []\n",
    "        for url in sites:\n",
    "            task = asyncio.create_task(download_site(session, url))\n",
    "            tasks.append(task)\n",
    "        await asyncio.gather(*tasks, return_exceptions=True)\n",
    "        \n",
    "\n",
    "async def main():\n",
    "    sites = [*mixed_urls]\n",
    "    start_time = time.time()\n",
    "    await download_all_sites(sites) #Agregué await para esperar a que se complete la tarea, con asyncio se retornaba un Runtime Error\n",
    "    duration = time.time() - start_time\n",
    "    print(f\"Downloaded {len(sites)} sites in {duration} seconds\")"
   ]
  },
  {
   "cell_type": "code",
   "execution_count": null,
   "id": "3e878402",
   "metadata": {},
   "outputs": [],
   "source": [
    "await main()"
   ]
  },
  {
   "cell_type": "markdown",
   "id": "a3d445c2",
   "metadata": {},
   "source": [
    "2) Método Threading"
   ]
  },
  {
   "cell_type": "code",
   "execution_count": null,
   "id": "45ed272f",
   "metadata": {},
   "outputs": [],
   "source": [
    "import concurrent.futures\n",
    "import requests\n",
    "import threading"
   ]
  },
  {
   "cell_type": "code",
   "execution_count": null,
   "id": "a4c034cb",
   "metadata": {},
   "outputs": [],
   "source": [
    "thread_local = threading.local()\n",
    "\n",
    "def get_session():\n",
    "    if not hasattr(thread_local, \"session\"):\n",
    "        thread_local.session = requests.Session()\n",
    "    return thread_local.session\n",
    "\n",
    "\n",
    "def Descargar_Sitio(url):\n",
    "    session = get_session()\n",
    "    with session.get(url) as response:\n",
    "        print(f\"Read {len(response.content)} from {url}\")\n",
    "\n",
    "\n",
    "def Descargar_Todos_los_sitios(sites):\n",
    "    with concurrent.futures.ThreadPoolExecutor(max_workers=5) as executor:\n",
    "        executor.map(Descargar_Sitio, sites)"
   ]
  },
  {
   "cell_type": "code",
   "execution_count": null,
   "id": "b18b908e",
   "metadata": {},
   "outputs": [],
   "source": [
    "Descargar_Todos_los_sitios(mixed_urls)"
   ]
  },
  {
   "cell_type": "markdown",
   "id": "de6e8ac2",
   "metadata": {},
   "source": [
    "3) Método multiprocessing"
   ]
  },
  {
   "cell_type": "code",
   "execution_count": null,
   "id": "612b6cfb",
   "metadata": {},
   "outputs": [],
   "source": [
    "import multiprocessing"
   ]
  },
  {
   "cell_type": "code",
   "execution_count": null,
   "id": "bd3f5bf3",
   "metadata": {},
   "outputs": [],
   "source": [
    "session = None"
   ]
  },
  {
   "cell_type": "code",
   "execution_count": 106,
   "id": "00ca8991",
   "metadata": {},
   "outputs": [],
   "source": [
    "def set_global_session():\n",
    "    global session\n",
    "    if not session:\n",
    "        session = requests.Session()\n",
    "        \n",
    "\n",
    "def Descargar_Sitio_MP(url):\n",
    "    with session.get(url) as response:\n",
    "        name = multiprocessing.current_process().name\n",
    "        print(f\"{name}:Read {len(response.content)} from {url}\")\n",
    "        \n",
    "def Descargar_Todos_los_sitios_MP(sites):\n",
    "    with multiprocessing.Pool(initializer=set_global_session) as pool:\n",
    "        pool.map(download_site, sites)\n",
    "        \n",
    "def main():\n",
    "    sites = [*mixed_urls]\n",
    "    start_time = time.time()\n",
    "    Descargar_Todos_los_sitios_MP(sites)\n",
    "    duration = time.time() - start_time\n",
    "    print(f\"Downloaded {len(sites)} in {duration} seconds\")\n",
    "    \n"
   ]
  }
 ],
 "metadata": {
  "kernelspec": {
   "display_name": "Python 3",
   "language": "python",
   "name": "python3"
  },
  "language_info": {
   "codemirror_mode": {
    "name": "ipython",
    "version": 3
   },
   "file_extension": ".py",
   "mimetype": "text/x-python",
   "name": "python",
   "nbconvert_exporter": "python",
   "pygments_lexer": "ipython3",
   "version": "3.13.4"
  }
 },
 "nbformat": 4,
 "nbformat_minor": 5
}
