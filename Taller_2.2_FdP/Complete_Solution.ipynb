{
 "cells": [
  {
   "cell_type": "markdown",
   "id": "bf07bd76",
   "metadata": {},
   "source": [
    "Taller 2.2 Concurrency"
   ]
  },
  {
   "cell_type": "markdown",
   "id": "7402c6d3",
   "metadata": {},
   "source": [
    "Daniel Alberto González Pabón - cc 1128462077"
   ]
  },
  {
   "cell_type": "code",
   "execution_count": 50,
   "id": "83fb8b5a",
   "metadata": {},
   "outputs": [],
   "source": [
    "import concurrent.futures\n",
    "import requests\n",
    "import threading\n",
    "import time\n",
    "import asyncio\n",
    "import time\n",
    "import aiohttp\n",
    "import sys\n",
    "import multiprocessing"
   ]
  },
  {
   "cell_type": "markdown",
   "id": "2901643c",
   "metadata": {},
   "source": [
    "1) Método Threading"
   ]
  },
  {
   "cell_type": "code",
   "execution_count": 51,
   "id": "b233dd94",
   "metadata": {},
   "outputs": [
    {
     "name": "stdout",
     "output_type": "stream",
     "text": [
      "Read 72835 from https://images.unsplash.com/photo-1506905925346-21bda4d32df4?w=800\n",
      "Read 160599 from https://images.unsplash.com/photo-1441974231531-c6227db76b6e?w=800\n",
      "Read 49671 from https://images.unsplash.com/photo-1518837695005-2083093ee35b?w=800\n",
      "Read 292 from https://jsonplaceholder.typicode.com/posts/1\n",
      "Read 509 from https://jsonplaceholder.typicode.com/users/1\n",
      "Read 3393 from https://raw.githubusercontent.com/cs109/2014_data/master/countries.csv\n",
      "Read 31075 from https://picsum.photos/600/400?random=4\n",
      "Read 12834 from https://picsum.photos/600/400?random=3\n",
      "Read 36163 from https://picsum.photos/600/400?random=2\n",
      "Read 42028 from https://picsum.photos/600/400?random=1\n",
      "Read 4601 from https://raw.githubusercontent.com/plotly/datasets/master/iris.csv\n",
      "Read 8909 from https://raw.githubusercontent.com/python/cpython/main/README.rst\n",
      "Read 6860 from https://raw.githubusercontent.com/microsoft/vscode/main/README.md\n",
      "Read 14 from https://raw.githubusercontent.com/django/django/main/setup.cfg\n",
      "Read 11901 from https://raw.githubusercontent.com/tensorflow/tensorflow/master/README.md\n",
      "Read 13264 from https://www.w3.org/WAI/ER/tests/xhtml/testfiles/resources/pdf/dummy.pdf\n",
      "Read 6531 from https://raw.githubusercontent.com/pallets/flask/main/pyproject.toml\n",
      "Read 14 from https://raw.githubusercontent.com/numpy/numpy/main/requirements.txt\n",
      "Read 21977 from https://raw.githubusercontent.com/pandas-dev/pandas/main/setup.py\n",
      "Read 55313 from https://www.africau.edu/images/default/sample.pdf\n",
      "Read 670852 from https://www.soundjay.com/misc/sounds/bell-ringing-05.wav\n",
      "Downloaded 21 in 14.715444326400757 seconds\n"
     ]
    }
   ],
   "source": [
    "%run \"Taller_2.2_FdP/Threading_Solution.py\""
   ]
  },
  {
   "cell_type": "markdown",
   "id": "19ba82ad",
   "metadata": {},
   "source": [
    "2) Método Asincrónico"
   ]
  },
  {
   "cell_type": "code",
   "execution_count": 52,
   "id": "49b9648d",
   "metadata": {},
   "outputs": [
    {
     "name": "stdout",
     "output_type": "stream",
     "text": [
      "Read 21977 from https://raw.githubusercontent.com/pandas-dev/pandas/main/setup.py\n",
      "Read 6860 from https://raw.githubusercontent.com/microsoft/vscode/main/README.md\n",
      "Read 14 from https://raw.githubusercontent.com/django/django/main/setup.cfg\n",
      "Read 4601 from https://raw.githubusercontent.com/plotly/datasets/master/iris.csv\n",
      "Read 72835 from https://images.unsplash.com/photo-1506905925346-21bda4d32df4?w=800\n",
      "Read 3393 from https://raw.githubusercontent.com/cs109/2014_data/master/countries.csv\n",
      "Read 6531 from https://raw.githubusercontent.com/pallets/flask/main/pyproject.toml\n",
      "Read 8909 from https://raw.githubusercontent.com/python/cpython/main/README.rst\n",
      "Read 14 from https://raw.githubusercontent.com/numpy/numpy/main/requirements.txt\n",
      "Read 11901 from https://raw.githubusercontent.com/tensorflow/tensorflow/master/README.md\n",
      "Read 160599 from https://images.unsplash.com/photo-1441974231531-c6227db76b6e?w=800\n",
      "Read 49671 from https://images.unsplash.com/photo-1518837695005-2083093ee35b?w=800\n",
      "Read 292 from https://jsonplaceholder.typicode.com/posts/1\n",
      "Read 13264 from https://www.w3.org/WAI/ER/tests/xhtml/testfiles/resources/pdf/dummy.pdf\n",
      "Read 509 from https://jsonplaceholder.typicode.com/users/1\n",
      "Read 13786 from https://picsum.photos/600/400?random=4\n",
      "Read 49140 from https://picsum.photos/600/400?random=2\n",
      "Read 38913 from https://picsum.photos/600/400?random=3\n",
      "Read 35414 from https://picsum.photos/600/400?random=1\n",
      "Read 55313 from https://www.africau.edu/images/default/sample.pdf\n",
      "Read 670852 from https://www.soundjay.com/misc/sounds/bell-ringing-05.wav\n",
      "Downloaded 21 sites in 5.964 seconds\n"
     ]
    }
   ],
   "source": [
    "import Async_Solution as excutor\n",
    "await excutor.main()"
   ]
  },
  {
   "cell_type": "markdown",
   "id": "ea7dfc48",
   "metadata": {},
   "source": [
    "3) Método Multiprocessing"
   ]
  },
  {
   "cell_type": "code",
   "execution_count": 53,
   "id": "259fe880",
   "metadata": {},
   "outputs": [
    {
     "name": "stdout",
     "output_type": "stream",
     "text": [
      "SpawnPoolWorker-5:Read 72835 from https://images.unsplash.com/photo-1506905925346-21bda4d32df4?w=800\n",
      "SpawnPoolWorker-6:Read 160599 from https://images.unsplash.com/photo-1441974231531-c6227db76b6e?w=800\n",
      "SpawnPoolWorker-7:Read 49671 from https://images.unsplash.com/photo-1518837695005-2083093ee35b?w=800\n",
      "SpawnPoolWorker-10:Read 3393 from https://raw.githubusercontent.com/cs109/2014_data/master/countries.csv\n",
      "SpawnPoolWorker-11:Read 4601 from https://raw.githubusercontent.com/plotly/datasets/master/iris.csv\n",
      "SpawnPoolWorker-12:Read 8909 from https://raw.githubusercontent.com/python/cpython/main/README.rst\n",
      "SpawnPoolWorker-12:Read 14 from https://raw.githubusercontent.com/django/django/main/setup.cfg\n",
      "SpawnPoolWorker-12:Read 6531 from https://raw.githubusercontent.com/pallets/flask/main/pyproject.toml\n",
      "SpawnPoolWorker-12:Read 14 from https://raw.githubusercontent.com/numpy/numpy/main/requirements.txt\n",
      "SpawnPoolWorker-12:Read 21977 from https://raw.githubusercontent.com/pandas-dev/pandas/main/setup.py\n",
      "SpawnPoolWorker-9:Read 509 from https://jsonplaceholder.typicode.com/users/1\n",
      "SpawnPoolWorker-8:Read 292 from https://jsonplaceholder.typicode.com/posts/1\n",
      "SpawnPoolWorker-5:Read 6860 from https://raw.githubusercontent.com/microsoft/vscode/main/README.md\n",
      "SpawnPoolWorker-1:Read 35531 from https://picsum.photos/600/400?random=1\n",
      "SpawnPoolWorker-6:Read 11901 from https://raw.githubusercontent.com/tensorflow/tensorflow/master/README.md\n",
      "SpawnPoolWorker-7:Read 13264 from https://www.w3.org/WAI/ER/tests/xhtml/testfiles/resources/pdf/dummy.pdf\n",
      "SpawnPoolWorker-10:Read 55313 from https://www.africau.edu/images/default/sample.pdf\n",
      "SpawnPoolWorker-3:Read 50196 from https://picsum.photos/600/400?random=3\n",
      "SpawnPoolWorker-2:Read 27490 from https://picsum.photos/600/400?random=2\n",
      "SpawnPoolWorker-4:Read 42407 from https://picsum.photos/600/400?random=4\n",
      "SpawnPoolWorker-11:Read 670852 from https://www.soundjay.com/misc/sounds/bell-ringing-05.wav\n",
      "Downloaded 21 in 19.643356800079346 seconds\n",
      "\n"
     ]
    }
   ],
   "source": [
    "import subprocess #Usé subprocess para correr el script de multiprocessing como si se escribirera en la terminal. \n",
    "                    #Esto es porque al usar multiprocessing en un jupyter notebook, se generan problemas al intentar crear nuevos procesos.\n",
    "result = subprocess.run(\n",
    "    [\"python\", \"Taller_2.2_FdP/MultiProcessing_Solution.py\"],\n",
    "    capture_output=True, text=True\n",
    ")\n",
    "print(result.stdout) #El stdout ayuda a ver la salida del script que de otra forma no me permitió ejectutar."
   ]
  }
 ],
 "metadata": {
  "kernelspec": {
   "display_name": "Python 3",
   "language": "python",
   "name": "python3"
  },
  "language_info": {
   "codemirror_mode": {
    "name": "ipython",
    "version": 3
   },
   "file_extension": ".py",
   "mimetype": "text/x-python",
   "name": "python",
   "nbconvert_exporter": "python",
   "pygments_lexer": "ipython3",
   "version": "3.13.4"
  }
 },
 "nbformat": 4,
 "nbformat_minor": 5
}
