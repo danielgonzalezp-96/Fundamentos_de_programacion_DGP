{
 "cells": [
  {
   "cell_type": "code",
   "execution_count": null,
   "id": "83fb8b5a",
   "metadata": {},
   "outputs": [],
   "source": [
    "import concurrent.futures\n",
    "import requests\n",
    "import threading\n",
    "import time\n",
    "import asyncio\n",
    "import time\n",
    "import aiohttp\n",
    "import sys\n",
    "import multiprocessing"
   ]
  },
  {
   "cell_type": "code",
   "execution_count": null,
   "id": "b233dd94",
   "metadata": {},
   "outputs": [],
   "source": [
    "%run \"Taller_2.2_FdP/Threading_Solution.py\""
   ]
  },
  {
   "cell_type": "code",
   "execution_count": null,
   "id": "49b9648d",
   "metadata": {},
   "outputs": [],
   "source": [
    "import Async_Solution as excutor\n",
    "await excutor.main()"
   ]
  },
  {
   "cell_type": "code",
   "execution_count": null,
   "id": "aada789c",
   "metadata": {},
   "outputs": [
    {
     "ename": "NameError",
     "evalue": "name 'download_all_sites_MP' is not defined",
     "output_type": "error",
     "traceback": [
      "\u001b[31m---------------------------------------------------------------------------\u001b[39m",
      "\u001b[31mNameError\u001b[39m                                 Traceback (most recent call last)",
      "\u001b[36mCell\u001b[39m\u001b[36m \u001b[39m\u001b[32mIn[29]\u001b[39m\u001b[32m, line 1\u001b[39m\n\u001b[32m----> \u001b[39m\u001b[32m1\u001b[39m \u001b[43mdownload_all_sites_MP\u001b[49m(sites)\n",
      "\u001b[31mNameError\u001b[39m: name 'download_all_sites_MP' is not defined"
     ]
    }
   ],
   "source": []
  }
 ],
 "metadata": {
  "kernelspec": {
   "display_name": "Python 3",
   "language": "python",
   "name": "python3"
  },
  "language_info": {
   "codemirror_mode": {
    "name": "ipython",
    "version": 3
   },
   "file_extension": ".py",
   "mimetype": "text/x-python",
   "name": "python",
   "nbconvert_exporter": "python",
   "pygments_lexer": "ipython3",
   "version": "3.13.4"
  }
 },
 "nbformat": 4,
 "nbformat_minor": 5
}
