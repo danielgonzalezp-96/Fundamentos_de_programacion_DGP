{
 "cells": [
  {
   "cell_type": "markdown",
   "id": "41a82490",
   "metadata": {},
   "source": [
    "#Fundamentos de Programación - Taller 1\n",
    "\n",
    "Daniel Alberto González Pabón - CC 1128462077\n"
   ]
  },
  {
   "cell_type": "code",
   "execution_count": null,
   "id": "2d41b155",
   "metadata": {},
   "outputs": [],
   "source": []
  },
  {
   "cell_type": "markdown",
   "id": "5b0dbc62",
   "metadata": {},
   "source": [
    "Usé Python versión 3.13.4\n"
   ]
  },
  {
   "cell_type": "markdown",
   "id": "5678c359",
   "metadata": {},
   "source": [
    "Ejercicio Hackerrank 1) Staircase\n"
   ]
  },
  {
   "cell_type": "code",
   "execution_count": null,
   "id": "ec1715df",
   "metadata": {},
   "outputs": [],
   "source": [
    "import math\n",
    "import os\n",
    "import random\n",
    "import sys\n",
    "import re"
   ]
  },
  {
   "cell_type": "code",
   "execution_count": 60,
   "id": "1d87283e",
   "metadata": {},
   "outputs": [
    {
     "name": "stdout",
     "output_type": "stream",
     "text": [
      "   #\n",
      "  ##\n",
      " ###\n",
      "####\n"
     ]
    }
   ],
   "source": [
    "\n",
    "def staircase(n):\n",
    "    for i in range(n):\n",
    "        EspacioString = \" \" * (n-(i + 1)) #El espacio decrece\n",
    "        NumeralString = \"#\" * (1+i)       #El numeral va en aumento\n",
    "        print(EspacioString + NumeralString)     \n",
    "        \n",
    "staircase(4) "
   ]
  },
  {
   "cell_type": "markdown",
   "id": "ec84972d",
   "metadata": {},
   "source": [
    "Ejercicio Hackerrank 2) Min-Max Sum\n"
   ]
  },
  {
   "cell_type": "code",
   "execution_count": 39,
   "id": "2eddae5b",
   "metadata": {},
   "outputs": [
    {
     "name": "stdout",
     "output_type": "stream",
     "text": [
      "10 14\n"
     ]
    }
   ],
   "source": [
    "def miniMaxSum(arr):\n",
    "    MinSum = sum(arr) - max(arr)\n",
    "    MaxSum = sum(arr) - min(arr)\n",
    "    print(MinSum,MaxSum)\n",
    "    \n",
    "miniMaxSum([1,2,3,4,5])"
   ]
  },
  {
   "cell_type": "markdown",
   "id": "287e17f1",
   "metadata": {},
   "source": [
    "Ejercicio Hackerrank 3) Pangrams"
   ]
  },
  {
   "cell_type": "code",
   "execution_count": 40,
   "id": "16ad8375",
   "metadata": {},
   "outputs": [
    {
     "data": {
      "text/plain": [
       "'not pangram'"
      ]
     },
     "execution_count": 40,
     "metadata": {},
     "output_type": "execute_result"
    }
   ],
   "source": [
    "def pangrams(s):\n",
    "    Condition = set(s.lower().replace(\" \",\"\"))\n",
    "    if len(Condition) == 26:\n",
    "        return \"pangram\"\n",
    "    else:\n",
    "        return \"not pangram\"\n",
    "    \n",
    "pangrams(\"We promptly judged antique ivory buckles for the prize  \")"
   ]
  },
  {
   "cell_type": "markdown",
   "id": "63fcd9dd",
   "metadata": {},
   "source": [
    "Ejercicio Hackerrank 4) Diagonal Difference"
   ]
  },
  {
   "cell_type": "code",
   "execution_count": 41,
   "id": "7286eee4",
   "metadata": {},
   "outputs": [
    {
     "data": {
      "text/plain": [
       "15"
      ]
     },
     "execution_count": 41,
     "metadata": {},
     "output_type": "execute_result"
    }
   ],
   "source": [
    "def diagonalDifference(arr):\n",
    "    TheLeftToRightDiagonal = 0\n",
    "    TheRightToLeftDiagonal = 0\n",
    "    for i in range(len(arr)):\n",
    "        TheLeftToRightDiagonal += arr[i][i]\n",
    "        TheRightToLeftDiagonal += arr[i][(len(arr)-1)-i]\n",
    "    return abs(TheLeftToRightDiagonal - TheRightToLeftDiagonal)\n",
    "\n",
    "arr = [\n",
    "    [11, 2, 4],\n",
    "    [4, 5, 6],\n",
    "    [10, 8, -12],\n",
    "]\n",
    "\n",
    "diagonalDifference(arr)"
   ]
  },
  {
   "cell_type": "markdown",
   "id": "dc0d20d2",
   "metadata": {},
   "source": [
    "Ejercicio Hackerrank 5) The love letter mystery"
   ]
  },
  {
   "cell_type": "code",
   "execution_count": 62,
   "id": "923817c6",
   "metadata": {},
   "outputs": [
    {
     "name": "stdout",
     "output_type": "stream",
     "text": [
      "2\n",
      "0\n",
      "4\n",
      "2\n"
     ]
    }
   ],
   "source": [
    "def theLoveLetterMystery(s):\n",
    "    NumberOfOperations = 0\n",
    "    s = s.lower()\n",
    "    n = len(s)\n",
    "    LettersABC = \"abcdefghijklmnopqrstuvwxyz\"\n",
    "    for i in range(n//2):\n",
    "        Condition1 = s[i]\n",
    "        Condition2 = s[n-i-1]\n",
    "        NumberOfOperations += abs(LettersABC.index(Condition1) - LettersABC.index(Condition2))\n",
    "    return NumberOfOperations\n",
    "\n",
    "DataInput = [\"abc\", \"abcba\", \"abcd\", \"cba\"]\n",
    "for s in DataInput:\n",
    "    print(theLoveLetterMystery(s))"
   ]
  }
 ],
 "metadata": {
  "kernelspec": {
   "display_name": "Python 3",
   "language": "python",
   "name": "python3"
  },
  "language_info": {
   "codemirror_mode": {
    "name": "ipython",
    "version": 3
   },
   "file_extension": ".py",
   "mimetype": "text/x-python",
   "name": "python",
   "nbconvert_exporter": "python",
   "pygments_lexer": "ipython3",
   "version": "3.13.4"
  }
 },
 "nbformat": 4,
 "nbformat_minor": 5
}
